{
 "cells": [
  {
   "cell_type": "code",
   "execution_count": 1,
   "id": "e1842005",
   "metadata": {},
   "outputs": [
    {
     "name": "stdout",
     "output_type": "stream",
     "text": [
      "[[ 37 -58 -23]\n",
      " [ 14 -38 -70]\n",
      " [ 22 -90  -7]\n",
      " [  9  55 -65]\n",
      " [-76  -1  14]\n",
      " [-80  49 -83]\n",
      " [ 81  51 -77]\n",
      " [ 71  14  80]\n",
      " [ 54  61  -5]\n",
      " [ -8 -70 -28]]\n"
     ]
    }
   ],
   "source": [
    "import numpy as np\n",
    "rand_int = np.random.randint(-100,100,(10,3))  \n",
    "print(rand_int)"
   ]
  }
 ],
 "metadata": {
  "kernelspec": {
   "display_name": "Python 3 (ipykernel)",
   "language": "python",
   "name": "python3"
  },
  "language_info": {
   "codemirror_mode": {
    "name": "ipython",
    "version": 3
   },
   "file_extension": ".py",
   "mimetype": "text/x-python",
   "name": "python",
   "nbconvert_exporter": "python",
   "pygments_lexer": "ipython3",
   "version": "3.9.12"
  }
 },
 "nbformat": 4,
 "nbformat_minor": 5
}
