{
 "cells": [
  {
   "cell_type": "code",
   "execution_count": 1,
   "id": "1288afeb",
   "metadata": {},
   "outputs": [],
   "source": [
    "%load_ext autoreload\n",
    "%autoreload 2"
   ]
  },
  {
   "cell_type": "code",
   "execution_count": 2,
   "id": "29db6141",
   "metadata": {},
   "outputs": [],
   "source": [
    "%reload_ext autoreload\n",
    "import sys\n",
    "sys.path.append(\"..\")"
   ]
  },
  {
   "cell_type": "code",
   "execution_count": 3,
   "id": "7962bc7b",
   "metadata": {},
   "outputs": [],
   "source": [
    "# import os\n",
    "# os.getcwd()"
   ]
  },
  {
   "cell_type": "code",
   "execution_count": 4,
   "id": "762b0baa",
   "metadata": {},
   "outputs": [
    {
     "name": "stdout",
     "output_type": "stream",
     "text": [
      "{'RMSE': 0.15}\n"
     ]
    }
   ],
   "source": [
    "import pandas as pd\n",
    "from house_prices.train import build_model\n",
    "train_dt_path = 'C:/Users/user/OneDrive - Lebanese American University/France/EPITA_Semesters/S2/DS in Production/DSA-S22-CV-env/data/train.csv'\n",
    "\n",
    "training_data_df = pd.read_csv(train_dt_path)\n",
    "model_performance_dict = build_model(training_data_df)\n",
    "print(model_performance_dict)"
   ]
  },
  {
   "cell_type": "code",
   "execution_count": 7,
   "id": "e1842005",
   "metadata": {},
   "outputs": [
    {
     "ename": "TypeError",
     "evalue": "can only concatenate str (not \"type\") to str",
     "output_type": "error",
     "traceback": [
      "\u001b[1;31m---------------------------------------------------------------------------\u001b[0m",
      "\u001b[1;31mTypeError\u001b[0m                                 Traceback (most recent call last)",
      "\u001b[1;32mc:\\Users\\user\\OneDrive - Lebanese American University\\France\\EPITA_Semesters\\S2\\DS in Production\\DSA-S22-CV-env\\notebooks\\model-industrialization-final.ipynb Cell 5'\u001b[0m in \u001b[0;36m<cell line: 5>\u001b[1;34m()\u001b[0m\n\u001b[0;32m      <a href='vscode-notebook-cell:/c%3A/Users/user/OneDrive%20-%20Lebanese%20American%20University/France/EPITA_Semesters/S2/DS%20in%20Production/DSA-S22-CV-env/notebooks/model-industrialization-final.ipynb#ch0000004?line=2'>3</a>\u001b[0m test_dt_path \u001b[39m=\u001b[39m \u001b[39m\"\u001b[39m\u001b[39mC:/Users/user/OneDrive - Lebanese American University/France/EPITA_Semesters/S2/DS in Production/DSA-S22-CV-env/data/test.csv\u001b[39m\u001b[39m\"\u001b[39m\n\u001b[0;32m      <a href='vscode-notebook-cell:/c%3A/Users/user/OneDrive%20-%20Lebanese%20American%20University/France/EPITA_Semesters/S2/DS%20in%20Production/DSA-S22-CV-env/notebooks/model-industrialization-final.ipynb#ch0000004?line=3'>4</a>\u001b[0m user_data_df \u001b[39m=\u001b[39m pd\u001b[39m.\u001b[39mread_csv(test_dt_path)\n\u001b[1;32m----> <a href='vscode-notebook-cell:/c%3A/Users/user/OneDrive%20-%20Lebanese%20American%20University/France/EPITA_Semesters/S2/DS%20in%20Production/DSA-S22-CV-env/notebooks/model-industrialization-final.ipynb#ch0000004?line=4'>5</a>\u001b[0m predictions \u001b[39m=\u001b[39m make_predictions(user_data_df)\n\u001b[0;32m      <a href='vscode-notebook-cell:/c%3A/Users/user/OneDrive%20-%20Lebanese%20American%20University/France/EPITA_Semesters/S2/DS%20in%20Production/DSA-S22-CV-env/notebooks/model-industrialization-final.ipynb#ch0000004?line=5'>6</a>\u001b[0m predictions\n",
      "File \u001b[1;32mc:\\Users\\user\\OneDrive - Lebanese American University\\France\\EPITA_Semesters\\S2\\DS in Production\\DSA-S22-CV-env\\notebooks\\..\\house_prices\\inference.py:14\u001b[0m, in \u001b[0;36mmake_predictions\u001b[1;34m(input_data)\u001b[0m\n\u001b[0;32m     <a href='file:///c%3A/Users/user/OneDrive%20-%20Lebanese%20American%20University/France/EPITA_Semesters/S2/DS%20in%20Production/DSA-S22-CV-env/notebooks/../house_prices/inference.py?line=10'>11</a>\u001b[0m X \u001b[39m=\u001b[39m input_data\n\u001b[0;32m     <a href='file:///c%3A/Users/user/OneDrive%20-%20Lebanese%20American%20University/France/EPITA_Semesters/S2/DS%20in%20Production/DSA-S22-CV-env/notebooks/../house_prices/inference.py?line=12'>13</a>\u001b[0m Ordinal, Not_Ordinal, numeric \u001b[39m=\u001b[39m preprocess_py\u001b[39m.\u001b[39msplit_(X)\n\u001b[1;32m---> <a href='file:///c%3A/Users/user/OneDrive%20-%20Lebanese%20American%20University/France/EPITA_Semesters/S2/DS%20in%20Production/DSA-S22-CV-env/notebooks/../house_prices/inference.py?line=13'>14</a>\u001b[0m x_test \u001b[39m=\u001b[39m preprocess_py\u001b[39m.\u001b[39;49mpreprocess(Ordinal, Not_Ordinal, numeric,\n\u001b[0;32m     <a href='file:///c%3A/Users/user/OneDrive%20-%20Lebanese%20American%20University/France/EPITA_Semesters/S2/DS%20in%20Production/DSA-S22-CV-env/notebooks/../house_prices/inference.py?line=14'>15</a>\u001b[0m                                   dataset_Typee\u001b[39m=\u001b[39;49m\u001b[39mTrue\u001b[39;49;00m)\n\u001b[0;32m     <a href='file:///c%3A/Users/user/OneDrive%20-%20Lebanese%20American%20University/France/EPITA_Semesters/S2/DS%20in%20Production/DSA-S22-CV-env/notebooks/../house_prices/inference.py?line=16'>17</a>\u001b[0m loaded_model \u001b[39m=\u001b[39m joblib\u001b[39m.\u001b[39mload(model_name)\n\u001b[0;32m     <a href='file:///c%3A/Users/user/OneDrive%20-%20Lebanese%20American%20University/France/EPITA_Semesters/S2/DS%20in%20Production/DSA-S22-CV-env/notebooks/../house_prices/inference.py?line=17'>18</a>\u001b[0m y_pred \u001b[39m=\u001b[39m loaded_model\u001b[39m.\u001b[39mpredict(x_test)\n",
      "File \u001b[1;32mc:\\Users\\user\\OneDrive - Lebanese American University\\France\\EPITA_Semesters\\S2\\DS in Production\\DSA-S22-CV-env\\notebooks\\..\\house_prices\\process.py:137\u001b[0m, in \u001b[0;36mpreprocess\u001b[1;34m(Ordinal, Not_Ordinal, numeric, dataset_Typee)\u001b[0m\n\u001b[0;32m    <a href='file:///c%3A/Users/user/OneDrive%20-%20Lebanese%20American%20University/France/EPITA_Semesters/S2/DS%20in%20Production/DSA-S22-CV-env/notebooks/../house_prices/process.py?line=132'>133</a>\u001b[0m final\u001b[39m.\u001b[39minterpolate(method\u001b[39m=\u001b[39m\u001b[39m'\u001b[39m\u001b[39mlinear\u001b[39m\u001b[39m'\u001b[39m, limit_direction\u001b[39m=\u001b[39m\u001b[39m'\u001b[39m\u001b[39mbackward\u001b[39m\u001b[39m'\u001b[39m,\n\u001b[0;32m    <a href='file:///c%3A/Users/user/OneDrive%20-%20Lebanese%20American%20University/France/EPITA_Semesters/S2/DS%20in%20Production/DSA-S22-CV-env/notebooks/../house_prices/process.py?line=133'>134</a>\u001b[0m                   inplace\u001b[39m=\u001b[39m\u001b[39mTrue\u001b[39;00m)\n\u001b[0;32m    <a href='file:///c%3A/Users/user/OneDrive%20-%20Lebanese%20American%20University/France/EPITA_Semesters/S2/DS%20in%20Production/DSA-S22-CV-env/notebooks/../house_prices/process.py?line=135'>136</a>\u001b[0m x \u001b[39m=\u001b[39m scale_final_data(final, dataset_Typee)\n\u001b[1;32m--> <a href='file:///c%3A/Users/user/OneDrive%20-%20Lebanese%20American%20University/France/EPITA_Semesters/S2/DS%20in%20Production/DSA-S22-CV-env/notebooks/../house_prices/process.py?line=136'>137</a>\u001b[0m \u001b[39mprint\u001b[39m(\u001b[39m\"\u001b[39;49m\u001b[39mX is of type: \u001b[39;49m\u001b[39m\"\u001b[39;49m \u001b[39m+\u001b[39;49m \u001b[39mtype\u001b[39;49m(x))\n\u001b[0;32m    <a href='file:///c%3A/Users/user/OneDrive%20-%20Lebanese%20American%20University/France/EPITA_Semesters/S2/DS%20in%20Production/DSA-S22-CV-env/notebooks/../house_prices/process.py?line=137'>138</a>\u001b[0m \u001b[39mreturn\u001b[39;00m x\n",
      "\u001b[1;31mTypeError\u001b[0m: can only concatenate str (not \"type\") to str"
     ]
    }
   ],
   "source": [
    "import pandas as pd\n",
    "from house_prices.inference import make_predictions\n",
    "test_dt_path = \"C:/Users/user/OneDrive - Lebanese American University/France/EPITA_Semesters/S2/DS in Production/DSA-S22-CV-env/data/test.csv\"\n",
    "user_data_df = pd.read_csv(test_dt_path)\n",
    "predictions = make_predictions(user_data_df)\n",
    "predictions"
   ]
  }
 ],
 "metadata": {
  "interpreter": {
   "hash": "1a506a83d8bb8a35ee89ff3f3e34a658804996920a0ce7a9cd575030c92516a6"
  },
  "kernelspec": {
   "display_name": "Python 3.9.12 ('ml')",
   "language": "python",
   "name": "python3"
  },
  "language_info": {
   "codemirror_mode": {
    "name": "ipython",
    "version": 3
   },
   "file_extension": ".py",
   "mimetype": "text/x-python",
   "name": "python",
   "nbconvert_exporter": "python",
   "pygments_lexer": "ipython3",
   "version": "3.9.12"
  }
 },
 "nbformat": 4,
 "nbformat_minor": 5
}
