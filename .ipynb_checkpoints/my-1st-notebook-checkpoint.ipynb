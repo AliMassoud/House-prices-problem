{
 "cells": [
  {
   "cell_type": "code",
   "execution_count": 19,
   "id": "e1842005",
   "metadata": {},
   "outputs": [
    {
     "name": "stdout",
     "output_type": "stream",
     "text": [
      "[[ 58   1  26]\n",
      " [-89 -51 -53]\n",
      " [-76 -62 -89]\n",
      " [-96 -17  38]\n",
      " [-74 -71 -81]\n",
      " [-11 -24 -64]\n",
      " [-29  57  55]\n",
      " [ 69  90  17]\n",
      " [ 67  48 -55]\n",
      " [  9  -8  16]]\n"
     ]
    }
   ],
   "source": [
    "import numpy as np\n",
    "rand_int = np.random.randint(-100,100,(10,3))  \n",
    "print(rand_int)"
   ]
  }
 ],
 "metadata": {
  "kernelspec": {
   "display_name": "Python 3 (ipykernel)",
   "language": "python",
   "name": "python3"
  },
  "language_info": {
   "codemirror_mode": {
    "name": "ipython",
    "version": 3
   },
   "file_extension": ".py",
   "mimetype": "text/x-python",
   "name": "python",
   "nbconvert_exporter": "python",
   "pygments_lexer": "ipython3",
   "version": "3.9.12"
  }
 },
 "nbformat": 4,
 "nbformat_minor": 5
}
